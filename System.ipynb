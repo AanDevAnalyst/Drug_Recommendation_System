{
 "cells": [
  {
   "cell_type": "code",
   "execution_count": 29,
   "id": "6173a045",
   "metadata": {},
   "outputs": [],
   "source": [
    "import pandas as pd\n",
    "\n",
    "\n",
    "df = pd.read_excel(\"Medical Symptoms Data Report.xlsx\")"
   ]
  },
  {
   "cell_type": "code",
   "execution_count": 30,
   "id": "e55ff821",
   "metadata": {},
   "outputs": [
    {
     "name": "stdout",
     "output_type": "stream",
     "text": [
      "<class 'pandas.core.frame.DataFrame'>\n",
      "RangeIndex: 4920 entries, 0 to 4919\n",
      "Columns: 133 entries, itching to prognosis\n",
      "dtypes: int64(132), object(1)\n",
      "memory usage: 5.0+ MB\n"
     ]
    }
   ],
   "source": [
    "#Getting The Total Number of Columnns & Rows of Our Dataset \n",
    "df.info()"
   ]
  },
  {
   "cell_type": "code",
   "execution_count": 31,
   "id": "a14ed34a",
   "metadata": {},
   "outputs": [
    {
     "data": {
      "text/plain": [
       "41"
      ]
     },
     "execution_count": 31,
     "metadata": {},
     "output_type": "execute_result"
    }
   ],
   "source": [
    "#Getting The Total Number of Unique Values In Our Target Column\n",
    "len(df['prognosis'].unique())"
   ]
  },
  {
   "cell_type": "code",
   "execution_count": null,
   "id": "c6ec3ae0",
   "metadata": {},
   "outputs": [],
   "source": [
    "#Removing Duplicate Values From Our Dataset\n",
    "df.drop_duplicates(inplace=True)\n",
    "df.reset_index(drop=True, inplace=True)"
   ]
  },
  {
   "cell_type": "code",
   "execution_count": 32,
   "id": "970f28e2",
   "metadata": {},
   "outputs": [],
   "source": [
    "#Splitting Our Dataset Into Training & Testing\n",
    "from sklearn.model_selection import train_test_split\n",
    "from sklearn.preprocessing import LabelEncoder\n",
    "\n",
    "\n",
    "X  = df.drop(\"prognosis\", axis=1)\n",
    "y = df['prognosis']"
   ]
  },
  {
   "cell_type": "code",
   "execution_count": 33,
   "id": "6e1a6071",
   "metadata": {},
   "outputs": [],
   "source": [
    "#Encoding Our Target Column\n",
    "le = LabelEncoder()\n",
    "le.fit(y)\n",
    "Y = le.transform(y)"
   ]
  },
  {
   "cell_type": "code",
   "execution_count": 34,
   "id": "92fe3d11",
   "metadata": {},
   "outputs": [],
   "source": [
    "X_train,X_test,y_train,y_test =  train_test_split(X, Y, test_size=0.3, random_state=20)"
   ]
  },
  {
   "cell_type": "code",
   "execution_count": 35,
   "id": "e0553587",
   "metadata": {},
   "outputs": [
    {
     "data": {
      "text/plain": [
       "((3444, 132), (1476, 132), (3444,), (1476,))"
      ]
     },
     "execution_count": 35,
     "metadata": {},
     "output_type": "execute_result"
    }
   ],
   "source": [
    "X_train.shape,X_test.shape,y_train.shape,y_test.shape"
   ]
  },
  {
   "cell_type": "code",
   "execution_count": 41,
   "id": "e7feb54b",
   "metadata": {},
   "outputs": [
    {
     "name": "stdout",
     "output_type": "stream",
     "text": [
      "SVC accuracy : 1.0\n",
      "SVC Confusion Metrics : \n",
      "[[40, 0, 0,..., 0, 0, 0],\n",
      " [ 0,43, 0,..., 0, 0, 0],\n",
      " [ 0, 0,28,..., 0, 0, 0],\n",
      " ...,\n",
      " [ 0, 0, 0,...,34, 0, 0],\n",
      " [ 0, 0, 0,..., 0,41, 0],\n",
      " [ 0, 0, 0,..., 0, 0,31]]\n",
      "RandomForest accuracy : 1.0\n",
      "RandomForest Confusion Metrics : \n",
      "[[40, 0, 0,..., 0, 0, 0],\n",
      " [ 0,43, 0,..., 0, 0, 0],\n",
      " [ 0, 0,28,..., 0, 0, 0],\n",
      " ...,\n",
      " [ 0, 0, 0,...,34, 0, 0],\n",
      " [ 0, 0, 0,..., 0,41, 0],\n",
      " [ 0, 0, 0,..., 0, 0,31]]\n",
      "GradientBoosting accuracy : 1.0\n",
      "GradientBoosting Confusion Metrics : \n",
      "[[40, 0, 0,..., 0, 0, 0],\n",
      " [ 0,43, 0,..., 0, 0, 0],\n",
      " [ 0, 0,28,..., 0, 0, 0],\n",
      " ...,\n",
      " [ 0, 0, 0,...,34, 0, 0],\n",
      " [ 0, 0, 0,..., 0,41, 0],\n",
      " [ 0, 0, 0,..., 0, 0,31]]\n",
      "KNeighbors accuracy : 1.0\n",
      "KNeighbors Confusion Metrics : \n",
      "[[40, 0, 0,..., 0, 0, 0],\n",
      " [ 0,43, 0,..., 0, 0, 0],\n",
      " [ 0, 0,28,..., 0, 0, 0],\n",
      " ...,\n",
      " [ 0, 0, 0,...,34, 0, 0],\n",
      " [ 0, 0, 0,..., 0,41, 0],\n",
      " [ 0, 0, 0,..., 0, 0,31]]\n",
      "MultinomailNB accuracy : 1.0\n",
      "MultinomailNB Confusion Metrics : \n",
      "[[40, 0, 0,..., 0, 0, 0],\n",
      " [ 0,43, 0,..., 0, 0, 0],\n",
      " [ 0, 0,28,..., 0, 0, 0],\n",
      " ...,\n",
      " [ 0, 0, 0,...,34, 0, 0],\n",
      " [ 0, 0, 0,..., 0,41, 0],\n",
      " [ 0, 0, 0,..., 0, 0,31]]\n"
     ]
    }
   ],
   "source": [
    "#Training Our Dataset With Various Model\n",
    "from sklearn.datasets import make_classification\n",
    "from sklearn.svm import SVC\n",
    "from sklearn.ensemble import RandomForestClassifier, GradientBoostingClassifier\n",
    "from sklearn.neighbors import KNeighborsClassifier\n",
    "from sklearn.naive_bayes import MultinomialNB\n",
    "\n",
    "\n",
    "from sklearn.metrics import accuracy_score, precision_score, f1_score, confusion_matrix\n",
    "import numpy as np\n",
    "\n",
    "models = {\n",
    "    \"SVC\": SVC(kernel = \"linear\"),\n",
    "    \"RandomForest\": RandomForestClassifier(n_estimators = 100, random_state = 42),\n",
    "    \"GradientBoosting\": GradientBoostingClassifier(n_estimators = 100, random_state = 42),\n",
    "    \"KNeighbors\": KNeighborsClassifier(n_neighbors = 5),\n",
    "    \"MultinomailNB\": MultinomialNB() \n",
    "\n",
    "}\n",
    "\n",
    "for model_name, model in models.items():\n",
    "    #Training\n",
    "    model.fit(X_train, y_train)\n",
    "\n",
    "    #Testing Model\n",
    "    prediction = model.predict(X_test)\n",
    "\n",
    "    #Calculating Model Accuracy\n",
    "    accuracy = accuracy_score(y_test, prediction)\n",
    "\n",
    "    #Calculating Confusion Metrics\n",
    "    cm = confusion_matrix(y_test, prediction)\n",
    "\n",
    "    print(f\"{model_name} accuracy : {accuracy}\")\n",
    "    print(f\"{model_name} Confusion Metrics : \")\n",
    "    print(np.array2string(cm, separator = ','))"
   ]
  },
  {
   "cell_type": "code",
   "execution_count": 42,
   "id": "f624ea07",
   "metadata": {},
   "outputs": [
    {
     "data": {
      "text/plain": [
       "1.0"
      ]
     },
     "execution_count": 42,
     "metadata": {},
     "output_type": "execute_result"
    }
   ],
   "source": [
    "#Single Prediction\n",
    "svc = SVC(kernel = 'linear')\n",
    "svc.fit(X_train, y_train)\n",
    "ypred = svc.predict(X_test)\n",
    "accuracy_score(y_test, ypred)"
   ]
  },
  {
   "cell_type": "code",
   "execution_count": null,
   "id": "bf769ac2",
   "metadata": {},
   "outputs": [],
   "source": [
    "#Saving Our Data Model\n",
    "import pickle\n",
    "\n",
    "pickle.dump(svc, open(\"models/SVC.pkl\", 'wb'))"
   ]
  },
  {
   "cell_type": "code",
   "execution_count": 44,
   "id": "276e3472",
   "metadata": {},
   "outputs": [],
   "source": [
    "#Loading Our Data Model\n",
    "svc = pickle.load(open(\"models/SVC.pkl\", \"rb\"))"
   ]
  },
  {
   "cell_type": "code",
   "execution_count": 48,
   "id": "0e7dedb5",
   "metadata": {},
   "outputs": [
    {
     "name": "stdout",
     "output_type": "stream",
     "text": [
      "Predicted Label:  [40]\n",
      "Actual Label: 40\n"
     ]
    }
   ],
   "source": [
    "import warnings\n",
    "\n",
    "warnings.filterwarnings(\"ignore\")\n",
    "\n",
    "print(\"Predicted Label: \", svc.predict(X_test.iloc[0].values.reshape(1,-1)))\n",
    "print(\"Actual Label:\" , y_test[0])"
   ]
  },
  {
   "cell_type": "code",
   "execution_count": 49,
   "id": "c7b09d84",
   "metadata": {},
   "outputs": [],
   "source": [
    "#Building Recommendation System\n",
    "symptoms = pd.read_csv(\"datasets/symtoms_df.csv\")\n",
    "\n",
    "precautions = pd.read_csv(\"datasets/precautions_df.csv\")\n",
    "\n",
    "workout = pd.read_csv(\"datasets/workout_df.csv\")\n",
    "\n",
    "description = pd.read_csv(\"datasets/description.csv\")\n",
    "\n",
    "medications = pd.read_csv(\"datasets/medications.csv\")\n",
    "\n",
    "diets = pd.read_csv(\"datasets/diets.csv\")"
   ]
  },
  {
   "cell_type": "code",
   "execution_count": 50,
   "id": "d9bd8e48",
   "metadata": {},
   "outputs": [],
   "source": [
    "symptoms_dictionary = {'itching': 0, 'skin_rash': 1, 'nodal_skin_eruptions': 2, 'continuous_sneezing': 3, 'shivering': 4, 'chills': 5, 'joint_pain': 6, 'stomach_pain': 7, 'acidity': 8, 'ulcers_on_tongue': 9, 'muscle_wasting': 10, 'vomiting': 11, 'burning_micturition': 12, 'spotting_ urination': 13, 'fatigue': 14, 'weight_gain': 15, 'anxiety': 16, 'cold_hands_and_feets': 17, 'mood_swings': 18, 'weight_loss': 19, 'restlessness': 20, 'lethargy': 21, 'patches_in_throat': 22, 'irregular_sugar_level': 23, 'cough': 24, 'high_fever': 25, 'sunken_eyes': 26, 'breathlessness': 27, 'sweating': 28, 'dehydration': 29, 'indigestion': 30, 'headache': 31, 'yellowish_skin': 32, 'dark_urine': 33, 'nausea': 34, 'loss_of_appetite': 35, 'pain_behind_the_eyes': 36, 'back_pain': 37, 'constipation': 38, 'abdominal_pain': 39, 'diarrhoea': 40, 'mild_fever': 41, 'yellow_urine': 42, 'yellowing_of_eyes': 43, 'acute_liver_failure': 44, 'fluid_overload': 45, 'swelling_of_stomach': 46, 'swelled_lymph_nodes': 47, 'malaise': 48, 'blurred_and_distorted_vision': 49, 'phlegm': 50, 'throat_irritation': 51, 'redness_of_eyes': 52, 'sinus_pressure': 53, 'runny_nose': 54, 'congestion': 55, 'chest_pain': 56, 'weakness_in_limbs': 57, 'fast_heart_rate': 58, 'pain_during_bowel_movements': 59, 'pain_in_anal_region': 60, 'bloody_stool': 61, 'irritation_in_anus': 62, 'neck_pain': 63, 'dizziness': 64, 'cramps': 65, 'bruising': 66, 'obesity': 67, 'swollen_legs': 68, 'swollen_blood_vessels': 69, 'puffy_face_and_eyes': 70, 'enlarged_thyroid': 71, 'brittle_nails': 72, 'swollen_extremeties': 73, 'excessive_hunger': 74, 'extra_marital_contacts': 75, 'drying_and_tingling_lips': 76, 'slurred_speech': 77, 'knee_pain': 78, 'hip_joint_pain': 79, 'muscle_weakness': 80, 'stiff_neck': 81, 'swelling_joints': 82, 'movement_stiffness': 83, 'spinning_movements': 84, 'loss_of_balance': 85, 'unsteadiness': 86, 'weakness_of_one_body_side': 87, 'loss_of_smell': 88, 'bladder_discomfort': 89, 'foul_smell_of urine': 90, 'continuous_feel_of_urine': 91, 'passage_of_gases': 92, 'internal_itching': 93, 'toxic_look_(typhos)': 94, 'depression': 95, 'irritability': 96, 'muscle_pain': 97, 'altered_sensorium': 98, 'red_spots_over_body': 99, 'belly_pain': 100, 'abnormal_menstruation': 101, 'dischromic _patches': 102, 'watering_from_eyes': 103, 'increased_appetite': 104, 'polyuria': 105, 'family_history': 106, 'mucoid_sputum': 107, 'rusty_sputum': 108, 'lack_of_concentration': 109, 'visual_disturbances': 110, 'receiving_blood_transfusion': 111, 'receiving_unsterile_injections': 112, 'coma': 113, 'stomach_bleeding': 114, 'distention_of_abdomen': 115, 'history_of_alcohol_consumption': 116, 'fluid_overload.1': 117, 'blood_in_sputum': 118, 'prominent_veins_on_calf': 119, 'palpitations': 120, 'painful_walking': 121, 'pus_filled_pimples': 122, 'blackheads': 123, 'scurring': 124, 'skin_peeling': 125, 'silver_like_dusting': 126, 'small_dents_in_nails': 127, 'inflammatory_nails': 128, 'blister': 129, 'red_sore_around_nose': 130, 'yellow_crust_ooze': 131}\n",
    "\n",
    "diseases_list = {15: 'Fungal infection', 4: 'Allergy', 16: 'GERD', 9: 'Chronic cholestasis', 14: 'Drug Reaction', 33: 'Peptic ulcer diseae', 1: 'AIDS', 12: 'Diabetes ', 17: 'Gastroenteritis', 6: 'Bronchial Asthma', 23: 'Hypertension ', 30: 'Migraine', 7: 'Cervical spondylosis', 32: 'Paralysis (brain hemorrhage)', 28: 'Jaundice', 29: 'Malaria', 8: 'Chicken pox', 11: 'Dengue', 37: 'Typhoid', 40: 'hepatitis A', 19: 'Hepatitis B', 20: 'Hepatitis C', 21: 'Hepatitis D', 22: 'Hepatitis E', 3: 'Alcoholic hepatitis', 36: 'Tuberculosis', 10: 'Common Cold', 34: 'Pneumonia', 13: 'Dimorphic hemmorhoids(piles)', 18: 'Heart attack', 39: 'Varicose veins', 26: 'Hypothyroidism', 24: 'Hyperthyroidism', 25: 'Hypoglycemia', 31: 'Osteoarthristis', 5: 'Arthritis', 0: '(vertigo) Paroymsal  Positional Vertigo', 2: 'Acne', 38: 'Urinary tract infection', 35: 'Psoriasis', 27: 'Impetigo'}\n",
    "\n",
    "def get_predicted_value(patient_symptoms):\n",
    "    input_vector = np.zeros(len(symptoms_dictionary))\n",
    "\n",
    "    for item in patient_symptoms:\n",
    "        input_vector[symptoms_dictionary(item)] = 1\n",
    "    return diseases_list[svc.predict([input_vector])[0]]"
   ]
  },
  {
   "cell_type": "code",
   "execution_count": null,
   "id": "fe0a6b02",
   "metadata": {},
   "outputs": [],
   "source": [
    "# Test 1\n",
    "# Split the user's input into a list of symptoms (assuming they are comma-separated) # itching,skin_rash,nodal_skin_eruptions\n",
    "symptoms = input(\"Enter your symptoms.......\")\n",
    "user_symptoms = [s.strip() for s in symptoms.split(',')]\n",
    "# Remove any extra characters, if any\n",
    "user_symptoms = [symptom.strip(\"[]' \") for symptom in user_symptoms]\n",
    "predicted_disease = get_predicted_value(user_symptoms)\n",
    "\n",
    "desc, pre, med, die, wrkout = helper(predicted_disease)\n",
    "\n",
    "print(\"=================predicted disease============\")\n",
    "print(predicted_disease)\n",
    "print(\"=================description==================\")\n",
    "print(desc)\n",
    "print(\"=================precautions==================\")\n",
    "i = 1\n",
    "for p_i in pre[0]:\n",
    "    print(i, \": \", p_i)\n",
    "    i += 1\n",
    "\n",
    "print(\"=================medications==================\")\n",
    "for m_i in med:\n",
    "    print(i, \": \", m_i)\n",
    "    i += 1\n",
    "\n",
    "print(\"=================workout==================\")\n",
    "for w_i in wrkout:\n",
    "    print(i, \": \", w_i)\n",
    "    i += 1\n",
    "\n",
    "print(\"=================diets==================\")\n",
    "for d_i in die:\n",
    "    print(i, \": \", d_i)\n",
    "    i += 1"
   ]
  },
  {
   "cell_type": "code",
   "execution_count": null,
   "id": "3041aeca",
   "metadata": {},
   "outputs": [],
   "source": []
  },
  {
   "cell_type": "code",
   "execution_count": null,
   "id": "bef1b20d",
   "metadata": {},
   "outputs": [],
   "source": []
  },
  {
   "cell_type": "code",
   "execution_count": null,
   "id": "ad7e592c",
   "metadata": {},
   "outputs": [],
   "source": []
  },
  {
   "cell_type": "code",
   "execution_count": null,
   "id": "bca5e82a",
   "metadata": {},
   "outputs": [],
   "source": []
  }
 ],
 "metadata": {
  "kernelspec": {
   "display_name": "myenv",
   "language": "python",
   "name": "python3"
  },
  "language_info": {
   "codemirror_mode": {
    "name": "ipython",
    "version": 3
   },
   "file_extension": ".py",
   "mimetype": "text/x-python",
   "name": "python",
   "nbconvert_exporter": "python",
   "pygments_lexer": "ipython3",
   "version": "3.10.11"
  }
 },
 "nbformat": 4,
 "nbformat_minor": 5
}
